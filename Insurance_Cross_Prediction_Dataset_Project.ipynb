{
 "cells": [
  {
   "cell_type": "markdown",
   "id": "6c40ccc8",
   "metadata": {},
   "source": [
    "# Insurance Cross Sell Prediction"
   ]
  },
  {
   "cell_type": "markdown",
   "id": "905e5fc8",
   "metadata": {},
   "source": [
    "About the Dataset:-\n",
    "1.Insurance companies that sell,health and property and casually insurance are using (ML)to drive\n",
    "the improvements in customer service,fraud detection and operational efficiency.\n",
    "2.We can build a model to predict whether the customers from the past years will also be interested\n",
    "in the vehicle insurance provided by the company.(So that accordingly the company can plan its strategy)\n",
    "\n",
    "     We have the info about:-(Features)\n",
    "1.Demographics(gender,age,region code type)\n",
    "2.Vehicles(vehicle age,Damage)\n",
    "3.Policy(Premium,sourcing channel)\n"
   ]
  },
  {
   "cell_type": "code",
   "execution_count": 1,
   "id": "cb63b0f1",
   "metadata": {},
   "outputs": [],
   "source": [
    "import pandas as pd\n",
    "import numpy as np\n",
    "import warnings\n",
    "warnings.filterwarnings('ignore')\n",
    "from sklearn.preprocessing import LabelEncoder\n",
    "le=LabelEncoder()\n",
    "import matplotlib.pyplot as plt"
   ]
  },
  {
   "cell_type": "code",
   "execution_count": 2,
   "id": "c41a6325",
   "metadata": {},
   "outputs": [
    {
     "data": {
      "text/html": [
       "<div>\n",
       "<style scoped>\n",
       "    .dataframe tbody tr th:only-of-type {\n",
       "        vertical-align: middle;\n",
       "    }\n",
       "\n",
       "    .dataframe tbody tr th {\n",
       "        vertical-align: top;\n",
       "    }\n",
       "\n",
       "    .dataframe thead th {\n",
       "        text-align: right;\n",
       "    }\n",
       "</style>\n",
       "<table border=\"1\" class=\"dataframe\">\n",
       "  <thead>\n",
       "    <tr style=\"text-align: right;\">\n",
       "      <th></th>\n",
       "      <th>id</th>\n",
       "      <th>Gender</th>\n",
       "      <th>Age</th>\n",
       "      <th>Driving_License</th>\n",
       "      <th>Region_Code</th>\n",
       "      <th>Previously_Insured</th>\n",
       "      <th>Vehicle_Age</th>\n",
       "      <th>Vehicle_Damage</th>\n",
       "      <th>Annual_Premium</th>\n",
       "      <th>Policy_Sales_Channel</th>\n",
       "      <th>Vintage</th>\n",
       "      <th>Response</th>\n",
       "    </tr>\n",
       "  </thead>\n",
       "  <tbody>\n",
       "    <tr>\n",
       "      <th>0</th>\n",
       "      <td>1</td>\n",
       "      <td>Male</td>\n",
       "      <td>44</td>\n",
       "      <td>1</td>\n",
       "      <td>28.0</td>\n",
       "      <td>0</td>\n",
       "      <td>&gt; 2 Years</td>\n",
       "      <td>Yes</td>\n",
       "      <td>40454.0</td>\n",
       "      <td>26.0</td>\n",
       "      <td>217</td>\n",
       "      <td>1</td>\n",
       "    </tr>\n",
       "    <tr>\n",
       "      <th>1</th>\n",
       "      <td>2</td>\n",
       "      <td>Male</td>\n",
       "      <td>76</td>\n",
       "      <td>1</td>\n",
       "      <td>3.0</td>\n",
       "      <td>0</td>\n",
       "      <td>1-2 Year</td>\n",
       "      <td>No</td>\n",
       "      <td>33536.0</td>\n",
       "      <td>26.0</td>\n",
       "      <td>183</td>\n",
       "      <td>0</td>\n",
       "    </tr>\n",
       "  </tbody>\n",
       "</table>\n",
       "</div>"
      ],
      "text/plain": [
       "   id Gender  Age  Driving_License  Region_Code  Previously_Insured  \\\n",
       "0   1   Male   44                1         28.0                   0   \n",
       "1   2   Male   76                1          3.0                   0   \n",
       "\n",
       "  Vehicle_Age Vehicle_Damage  Annual_Premium  Policy_Sales_Channel  Vintage  \\\n",
       "0   > 2 Years            Yes         40454.0                  26.0      217   \n",
       "1    1-2 Year             No         33536.0                  26.0      183   \n",
       "\n",
       "   Response  \n",
       "0         1  \n",
       "1         0  "
      ]
     },
     "execution_count": 2,
     "metadata": {},
     "output_type": "execute_result"
    }
   ],
   "source": [
    "#fetch data from csv: convert csv to dataframe\n",
    "#d1=pd.read_csv(r\"C:\\Users\\ADMIN\\OneDrive\\Desktop\\train.csv\")\n",
    "#d1 \n",
    "#d1.head(2)\n",
    "d1=pd.read_csv(r\"C:\\Users\\ADMIN\\OneDrive\\Desktop\\health_insurance.csv\")\n",
    "d1 \n",
    "d1.head(2)"
   ]
  },
  {
   "cell_type": "code",
   "execution_count": 3,
   "id": "03b030b4",
   "metadata": {},
   "outputs": [
    {
     "data": {
      "text/plain": [
       "(381109, 12)"
      ]
     },
     "execution_count": 3,
     "metadata": {},
     "output_type": "execute_result"
    }
   ],
   "source": [
    "d1.shape  #Shape of the set"
   ]
  },
  {
   "cell_type": "code",
   "execution_count": 4,
   "id": "5410505b",
   "metadata": {},
   "outputs": [
    {
     "data": {
      "text/html": [
       "<div>\n",
       "<style scoped>\n",
       "    .dataframe tbody tr th:only-of-type {\n",
       "        vertical-align: middle;\n",
       "    }\n",
       "\n",
       "    .dataframe tbody tr th {\n",
       "        vertical-align: top;\n",
       "    }\n",
       "\n",
       "    .dataframe thead th {\n",
       "        text-align: right;\n",
       "    }\n",
       "</style>\n",
       "<table border=\"1\" class=\"dataframe\">\n",
       "  <thead>\n",
       "    <tr style=\"text-align: right;\">\n",
       "      <th></th>\n",
       "      <th>id</th>\n",
       "      <th>Age</th>\n",
       "      <th>Driving_License</th>\n",
       "      <th>Region_Code</th>\n",
       "      <th>Previously_Insured</th>\n",
       "      <th>Annual_Premium</th>\n",
       "      <th>Policy_Sales_Channel</th>\n",
       "      <th>Vintage</th>\n",
       "      <th>Response</th>\n",
       "    </tr>\n",
       "  </thead>\n",
       "  <tbody>\n",
       "    <tr>\n",
       "      <th>count</th>\n",
       "      <td>381109.000000</td>\n",
       "      <td>381109.000000</td>\n",
       "      <td>381109.000000</td>\n",
       "      <td>381109.000000</td>\n",
       "      <td>381109.000000</td>\n",
       "      <td>381109.000000</td>\n",
       "      <td>381109.000000</td>\n",
       "      <td>381109.000000</td>\n",
       "      <td>381109.000000</td>\n",
       "    </tr>\n",
       "    <tr>\n",
       "      <th>mean</th>\n",
       "      <td>190555.000000</td>\n",
       "      <td>38.822584</td>\n",
       "      <td>0.997869</td>\n",
       "      <td>26.388807</td>\n",
       "      <td>0.458210</td>\n",
       "      <td>30564.389581</td>\n",
       "      <td>112.034295</td>\n",
       "      <td>154.347397</td>\n",
       "      <td>0.122563</td>\n",
       "    </tr>\n",
       "    <tr>\n",
       "      <th>std</th>\n",
       "      <td>110016.836208</td>\n",
       "      <td>15.511611</td>\n",
       "      <td>0.046110</td>\n",
       "      <td>13.229888</td>\n",
       "      <td>0.498251</td>\n",
       "      <td>17213.155057</td>\n",
       "      <td>54.203995</td>\n",
       "      <td>83.671304</td>\n",
       "      <td>0.327936</td>\n",
       "    </tr>\n",
       "    <tr>\n",
       "      <th>min</th>\n",
       "      <td>1.000000</td>\n",
       "      <td>20.000000</td>\n",
       "      <td>0.000000</td>\n",
       "      <td>0.000000</td>\n",
       "      <td>0.000000</td>\n",
       "      <td>2630.000000</td>\n",
       "      <td>1.000000</td>\n",
       "      <td>10.000000</td>\n",
       "      <td>0.000000</td>\n",
       "    </tr>\n",
       "    <tr>\n",
       "      <th>25%</th>\n",
       "      <td>95278.000000</td>\n",
       "      <td>25.000000</td>\n",
       "      <td>1.000000</td>\n",
       "      <td>15.000000</td>\n",
       "      <td>0.000000</td>\n",
       "      <td>24405.000000</td>\n",
       "      <td>29.000000</td>\n",
       "      <td>82.000000</td>\n",
       "      <td>0.000000</td>\n",
       "    </tr>\n",
       "    <tr>\n",
       "      <th>50%</th>\n",
       "      <td>190555.000000</td>\n",
       "      <td>36.000000</td>\n",
       "      <td>1.000000</td>\n",
       "      <td>28.000000</td>\n",
       "      <td>0.000000</td>\n",
       "      <td>31669.000000</td>\n",
       "      <td>133.000000</td>\n",
       "      <td>154.000000</td>\n",
       "      <td>0.000000</td>\n",
       "    </tr>\n",
       "    <tr>\n",
       "      <th>75%</th>\n",
       "      <td>285832.000000</td>\n",
       "      <td>49.000000</td>\n",
       "      <td>1.000000</td>\n",
       "      <td>35.000000</td>\n",
       "      <td>1.000000</td>\n",
       "      <td>39400.000000</td>\n",
       "      <td>152.000000</td>\n",
       "      <td>227.000000</td>\n",
       "      <td>0.000000</td>\n",
       "    </tr>\n",
       "    <tr>\n",
       "      <th>max</th>\n",
       "      <td>381109.000000</td>\n",
       "      <td>85.000000</td>\n",
       "      <td>1.000000</td>\n",
       "      <td>52.000000</td>\n",
       "      <td>1.000000</td>\n",
       "      <td>540165.000000</td>\n",
       "      <td>163.000000</td>\n",
       "      <td>299.000000</td>\n",
       "      <td>1.000000</td>\n",
       "    </tr>\n",
       "  </tbody>\n",
       "</table>\n",
       "</div>"
      ],
      "text/plain": [
       "                  id            Age  Driving_License    Region_Code  \\\n",
       "count  381109.000000  381109.000000    381109.000000  381109.000000   \n",
       "mean   190555.000000      38.822584         0.997869      26.388807   \n",
       "std    110016.836208      15.511611         0.046110      13.229888   \n",
       "min         1.000000      20.000000         0.000000       0.000000   \n",
       "25%     95278.000000      25.000000         1.000000      15.000000   \n",
       "50%    190555.000000      36.000000         1.000000      28.000000   \n",
       "75%    285832.000000      49.000000         1.000000      35.000000   \n",
       "max    381109.000000      85.000000         1.000000      52.000000   \n",
       "\n",
       "       Previously_Insured  Annual_Premium  Policy_Sales_Channel  \\\n",
       "count       381109.000000   381109.000000         381109.000000   \n",
       "mean             0.458210    30564.389581            112.034295   \n",
       "std              0.498251    17213.155057             54.203995   \n",
       "min              0.000000     2630.000000              1.000000   \n",
       "25%              0.000000    24405.000000             29.000000   \n",
       "50%              0.000000    31669.000000            133.000000   \n",
       "75%              1.000000    39400.000000            152.000000   \n",
       "max              1.000000   540165.000000            163.000000   \n",
       "\n",
       "             Vintage       Response  \n",
       "count  381109.000000  381109.000000  \n",
       "mean      154.347397       0.122563  \n",
       "std        83.671304       0.327936  \n",
       "min        10.000000       0.000000  \n",
       "25%        82.000000       0.000000  \n",
       "50%       154.000000       0.000000  \n",
       "75%       227.000000       0.000000  \n",
       "max       299.000000       1.000000  "
      ]
     },
     "execution_count": 4,
     "metadata": {},
     "output_type": "execute_result"
    }
   ],
   "source": [
    "d1.describe()    #Response is the target column"
   ]
  },
  {
   "cell_type": "code",
   "execution_count": 5,
   "id": "0c4ae7c8",
   "metadata": {},
   "outputs": [
    {
     "name": "stdout",
     "output_type": "stream",
     "text": [
      "<class 'pandas.core.frame.DataFrame'>\n",
      "RangeIndex: 381109 entries, 0 to 381108\n",
      "Data columns (total 12 columns):\n",
      " #   Column                Non-Null Count   Dtype  \n",
      "---  ------                --------------   -----  \n",
      " 0   id                    381109 non-null  int64  \n",
      " 1   Gender                381109 non-null  object \n",
      " 2   Age                   381109 non-null  int64  \n",
      " 3   Driving_License       381109 non-null  int64  \n",
      " 4   Region_Code           381109 non-null  float64\n",
      " 5   Previously_Insured    381109 non-null  int64  \n",
      " 6   Vehicle_Age           381109 non-null  object \n",
      " 7   Vehicle_Damage        381109 non-null  object \n",
      " 8   Annual_Premium        381109 non-null  float64\n",
      " 9   Policy_Sales_Channel  381109 non-null  float64\n",
      " 10  Vintage               381109 non-null  int64  \n",
      " 11  Response              381109 non-null  int64  \n",
      "dtypes: float64(3), int64(6), object(3)\n",
      "memory usage: 34.9+ MB\n"
     ]
    }
   ],
   "source": [
    "d1.info()"
   ]
  },
  {
   "cell_type": "code",
   "execution_count": 6,
   "id": "574b9557",
   "metadata": {},
   "outputs": [
    {
     "data": {
      "text/plain": [
       "Index(['id', 'Gender', 'Age', 'Driving_License', 'Region_Code',\n",
       "       'Previously_Insured', 'Vehicle_Age', 'Vehicle_Damage', 'Annual_Premium',\n",
       "       'Policy_Sales_Channel', 'Vintage', 'Response'],\n",
       "      dtype='object')"
      ]
     },
     "execution_count": 6,
     "metadata": {},
     "output_type": "execute_result"
    }
   ],
   "source": [
    "d1.columns"
   ]
  },
  {
   "cell_type": "markdown",
   "id": "6e413c28",
   "metadata": {},
   "source": [
    "# Missing Value Treatment"
   ]
  },
  {
   "cell_type": "code",
   "execution_count": 7,
   "id": "91dd1a4c",
   "metadata": {},
   "outputs": [
    {
     "data": {
      "text/plain": [
       "id                      0\n",
       "Gender                  0\n",
       "Age                     0\n",
       "Driving_License         0\n",
       "Region_Code             0\n",
       "Previously_Insured      0\n",
       "Vehicle_Age             0\n",
       "Vehicle_Damage          0\n",
       "Annual_Premium          0\n",
       "Policy_Sales_Channel    0\n",
       "Vintage                 0\n",
       "Response                0\n",
       "dtype: int64"
      ]
     },
     "execution_count": 7,
     "metadata": {},
     "output_type": "execute_result"
    }
   ],
   "source": [
    "d1.isnull().sum()  "
   ]
  },
  {
   "cell_type": "code",
   "execution_count": 8,
   "id": "6be3dbe0",
   "metadata": {},
   "outputs": [
    {
     "data": {
      "text/html": [
       "<div>\n",
       "<style scoped>\n",
       "    .dataframe tbody tr th:only-of-type {\n",
       "        vertical-align: middle;\n",
       "    }\n",
       "\n",
       "    .dataframe tbody tr th {\n",
       "        vertical-align: top;\n",
       "    }\n",
       "\n",
       "    .dataframe thead th {\n",
       "        text-align: right;\n",
       "    }\n",
       "</style>\n",
       "<table border=\"1\" class=\"dataframe\">\n",
       "  <thead>\n",
       "    <tr style=\"text-align: right;\">\n",
       "      <th></th>\n",
       "      <th>Gender</th>\n",
       "      <th>Age</th>\n",
       "      <th>Driving_License</th>\n",
       "      <th>Region_Code</th>\n",
       "      <th>Previously_Insured</th>\n",
       "      <th>Vehicle_Age</th>\n",
       "      <th>Vehicle_Damage</th>\n",
       "      <th>Annual_Premium</th>\n",
       "      <th>Policy_Sales_Channel</th>\n",
       "      <th>Vintage</th>\n",
       "      <th>Response</th>\n",
       "    </tr>\n",
       "  </thead>\n",
       "  <tbody>\n",
       "    <tr>\n",
       "      <th>0</th>\n",
       "      <td>Male</td>\n",
       "      <td>44</td>\n",
       "      <td>1</td>\n",
       "      <td>28.0</td>\n",
       "      <td>0</td>\n",
       "      <td>&gt; 2 Years</td>\n",
       "      <td>Yes</td>\n",
       "      <td>40454.0</td>\n",
       "      <td>26.0</td>\n",
       "      <td>217</td>\n",
       "      <td>1</td>\n",
       "    </tr>\n",
       "    <tr>\n",
       "      <th>1</th>\n",
       "      <td>Male</td>\n",
       "      <td>76</td>\n",
       "      <td>1</td>\n",
       "      <td>3.0</td>\n",
       "      <td>0</td>\n",
       "      <td>1-2 Year</td>\n",
       "      <td>No</td>\n",
       "      <td>33536.0</td>\n",
       "      <td>26.0</td>\n",
       "      <td>183</td>\n",
       "      <td>0</td>\n",
       "    </tr>\n",
       "    <tr>\n",
       "      <th>2</th>\n",
       "      <td>Male</td>\n",
       "      <td>47</td>\n",
       "      <td>1</td>\n",
       "      <td>28.0</td>\n",
       "      <td>0</td>\n",
       "      <td>&gt; 2 Years</td>\n",
       "      <td>Yes</td>\n",
       "      <td>38294.0</td>\n",
       "      <td>26.0</td>\n",
       "      <td>27</td>\n",
       "      <td>1</td>\n",
       "    </tr>\n",
       "    <tr>\n",
       "      <th>3</th>\n",
       "      <td>Male</td>\n",
       "      <td>21</td>\n",
       "      <td>1</td>\n",
       "      <td>11.0</td>\n",
       "      <td>1</td>\n",
       "      <td>&lt; 1 Year</td>\n",
       "      <td>No</td>\n",
       "      <td>28619.0</td>\n",
       "      <td>152.0</td>\n",
       "      <td>203</td>\n",
       "      <td>0</td>\n",
       "    </tr>\n",
       "    <tr>\n",
       "      <th>4</th>\n",
       "      <td>Female</td>\n",
       "      <td>29</td>\n",
       "      <td>1</td>\n",
       "      <td>41.0</td>\n",
       "      <td>1</td>\n",
       "      <td>&lt; 1 Year</td>\n",
       "      <td>No</td>\n",
       "      <td>27496.0</td>\n",
       "      <td>152.0</td>\n",
       "      <td>39</td>\n",
       "      <td>0</td>\n",
       "    </tr>\n",
       "    <tr>\n",
       "      <th>...</th>\n",
       "      <td>...</td>\n",
       "      <td>...</td>\n",
       "      <td>...</td>\n",
       "      <td>...</td>\n",
       "      <td>...</td>\n",
       "      <td>...</td>\n",
       "      <td>...</td>\n",
       "      <td>...</td>\n",
       "      <td>...</td>\n",
       "      <td>...</td>\n",
       "      <td>...</td>\n",
       "    </tr>\n",
       "    <tr>\n",
       "      <th>381104</th>\n",
       "      <td>Male</td>\n",
       "      <td>74</td>\n",
       "      <td>1</td>\n",
       "      <td>26.0</td>\n",
       "      <td>1</td>\n",
       "      <td>1-2 Year</td>\n",
       "      <td>No</td>\n",
       "      <td>30170.0</td>\n",
       "      <td>26.0</td>\n",
       "      <td>88</td>\n",
       "      <td>0</td>\n",
       "    </tr>\n",
       "    <tr>\n",
       "      <th>381105</th>\n",
       "      <td>Male</td>\n",
       "      <td>30</td>\n",
       "      <td>1</td>\n",
       "      <td>37.0</td>\n",
       "      <td>1</td>\n",
       "      <td>&lt; 1 Year</td>\n",
       "      <td>No</td>\n",
       "      <td>40016.0</td>\n",
       "      <td>152.0</td>\n",
       "      <td>131</td>\n",
       "      <td>0</td>\n",
       "    </tr>\n",
       "    <tr>\n",
       "      <th>381106</th>\n",
       "      <td>Male</td>\n",
       "      <td>21</td>\n",
       "      <td>1</td>\n",
       "      <td>30.0</td>\n",
       "      <td>1</td>\n",
       "      <td>&lt; 1 Year</td>\n",
       "      <td>No</td>\n",
       "      <td>35118.0</td>\n",
       "      <td>160.0</td>\n",
       "      <td>161</td>\n",
       "      <td>0</td>\n",
       "    </tr>\n",
       "    <tr>\n",
       "      <th>381107</th>\n",
       "      <td>Female</td>\n",
       "      <td>68</td>\n",
       "      <td>1</td>\n",
       "      <td>14.0</td>\n",
       "      <td>0</td>\n",
       "      <td>&gt; 2 Years</td>\n",
       "      <td>Yes</td>\n",
       "      <td>44617.0</td>\n",
       "      <td>124.0</td>\n",
       "      <td>74</td>\n",
       "      <td>0</td>\n",
       "    </tr>\n",
       "    <tr>\n",
       "      <th>381108</th>\n",
       "      <td>Male</td>\n",
       "      <td>46</td>\n",
       "      <td>1</td>\n",
       "      <td>29.0</td>\n",
       "      <td>0</td>\n",
       "      <td>1-2 Year</td>\n",
       "      <td>No</td>\n",
       "      <td>41777.0</td>\n",
       "      <td>26.0</td>\n",
       "      <td>237</td>\n",
       "      <td>0</td>\n",
       "    </tr>\n",
       "  </tbody>\n",
       "</table>\n",
       "<p>381109 rows × 11 columns</p>\n",
       "</div>"
      ],
      "text/plain": [
       "        Gender  Age  Driving_License  Region_Code  Previously_Insured  \\\n",
       "0         Male   44                1         28.0                   0   \n",
       "1         Male   76                1          3.0                   0   \n",
       "2         Male   47                1         28.0                   0   \n",
       "3         Male   21                1         11.0                   1   \n",
       "4       Female   29                1         41.0                   1   \n",
       "...        ...  ...              ...          ...                 ...   \n",
       "381104    Male   74                1         26.0                   1   \n",
       "381105    Male   30                1         37.0                   1   \n",
       "381106    Male   21                1         30.0                   1   \n",
       "381107  Female   68                1         14.0                   0   \n",
       "381108    Male   46                1         29.0                   0   \n",
       "\n",
       "       Vehicle_Age Vehicle_Damage  Annual_Premium  Policy_Sales_Channel  \\\n",
       "0        > 2 Years            Yes         40454.0                  26.0   \n",
       "1         1-2 Year             No         33536.0                  26.0   \n",
       "2        > 2 Years            Yes         38294.0                  26.0   \n",
       "3         < 1 Year             No         28619.0                 152.0   \n",
       "4         < 1 Year             No         27496.0                 152.0   \n",
       "...            ...            ...             ...                   ...   \n",
       "381104    1-2 Year             No         30170.0                  26.0   \n",
       "381105    < 1 Year             No         40016.0                 152.0   \n",
       "381106    < 1 Year             No         35118.0                 160.0   \n",
       "381107   > 2 Years            Yes         44617.0                 124.0   \n",
       "381108    1-2 Year             No         41777.0                  26.0   \n",
       "\n",
       "        Vintage  Response  \n",
       "0           217         1  \n",
       "1           183         0  \n",
       "2            27         1  \n",
       "3           203         0  \n",
       "4            39         0  \n",
       "...         ...       ...  \n",
       "381104       88         0  \n",
       "381105      131         0  \n",
       "381106      161         0  \n",
       "381107       74         0  \n",
       "381108      237         0  \n",
       "\n",
       "[381109 rows x 11 columns]"
      ]
     },
     "execution_count": 8,
     "metadata": {},
     "output_type": "execute_result"
    }
   ],
   "source": [
    "#data4.info()\n",
    "d1=d1.drop(['id'],axis=1)\n",
    "d1"
   ]
  },
  {
   "cell_type": "markdown",
   "id": "ed3e4bae",
   "metadata": {},
   "source": [
    "# Dtype Conversion"
   ]
  },
  {
   "cell_type": "code",
   "execution_count": 9,
   "id": "3176143b",
   "metadata": {},
   "outputs": [
    {
     "data": {
      "text/plain": [
       "Gender                   object\n",
       "Age                       int64\n",
       "Driving_License           int64\n",
       "Region_Code             float64\n",
       "Previously_Insured        int64\n",
       "Vehicle_Age              object\n",
       "Vehicle_Damage           object\n",
       "Annual_Premium          float64\n",
       "Policy_Sales_Channel    float64\n",
       "Vintage                   int64\n",
       "Response                  int64\n",
       "dtype: object"
      ]
     },
     "execution_count": 9,
     "metadata": {},
     "output_type": "execute_result"
    }
   ],
   "source": [
    "d1.dtypes"
   ]
  },
  {
   "cell_type": "code",
   "execution_count": 10,
   "id": "329a5650",
   "metadata": {},
   "outputs": [],
   "source": [
    "d1.Gender=le.fit_transform(d1.Gender)\n",
    "d1.Vehicle_Age=le.fit_transform(d1.Vehicle_Age)\n",
    "d1.Vehicle_Damage=le.fit_transform(d1.Vehicle_Damage)\n"
   ]
  },
  {
   "cell_type": "code",
   "execution_count": 11,
   "id": "47db6051",
   "metadata": {},
   "outputs": [
    {
     "data": {
      "text/plain": [
       "0    334399\n",
       "1     46710\n",
       "Name: Response, dtype: int64"
      ]
     },
     "execution_count": 11,
     "metadata": {},
     "output_type": "execute_result"
    }
   ],
   "source": [
    "d1.Response.value_counts()"
   ]
  },
  {
   "cell_type": "code",
   "execution_count": 12,
   "id": "0e5e82b4",
   "metadata": {},
   "outputs": [
    {
     "data": {
      "text/plain": [
       "Gender                    int32\n",
       "Age                       int64\n",
       "Driving_License           int64\n",
       "Region_Code             float64\n",
       "Previously_Insured        int64\n",
       "Vehicle_Age               int32\n",
       "Vehicle_Damage            int32\n",
       "Annual_Premium          float64\n",
       "Policy_Sales_Channel    float64\n",
       "Vintage                   int64\n",
       "Response                  int64\n",
       "dtype: object"
      ]
     },
     "execution_count": 12,
     "metadata": {},
     "output_type": "execute_result"
    }
   ],
   "source": [
    "d1.dtypes"
   ]
  },
  {
   "cell_type": "code",
   "execution_count": 13,
   "id": "03166445",
   "metadata": {},
   "outputs": [
    {
     "data": {
      "text/plain": [
       "<function matplotlib.pyplot.show(close=None, block=None)>"
      ]
     },
     "execution_count": 13,
     "metadata": {},
     "output_type": "execute_result"
    },
    {
     "data": {
      "image/png": "[encoded data removed]",
      "text/plain": [
       "<Figure size 640x480 with 1 Axes>"
      ]
     },
     "metadata": {},
     "output_type": "display_data"
    }
   ],
   "source": [
    "c=[d1[d1['Response']==1].shape[0],d1[d1['Response']==0].shape[0]]\n",
    "labels_1=['Minority Class', 'Majority class']\n",
    "plt.pie(c,labels=labels_1)\n",
    "plt.show"
   ]
  },
  {
   "cell_type": "markdown",
   "id": "65f7ec83",
   "metadata": {},
   "source": [
    "# Base Models:-"
   ]
  },
  {
   "cell_type": "code",
   "execution_count": 14,
   "id": "3dbf7dd3",
   "metadata": {},
   "outputs": [
    {
     "data": {
      "text/html": [
       "<div>\n",
       "<style scoped>\n",
       "    .dataframe tbody tr th:only-of-type {\n",
       "        vertical-align: middle;\n",
       "    }\n",
       "\n",
       "    .dataframe tbody tr th {\n",
       "        vertical-align: top;\n",
       "    }\n",
       "\n",
       "    .dataframe thead th {\n",
       "        text-align: right;\n",
       "    }\n",
       "</style>\n",
       "<table border=\"1\" class=\"dataframe\">\n",
       "  <thead>\n",
       "    <tr style=\"text-align: right;\">\n",
       "      <th></th>\n",
       "      <th>Gender</th>\n",
       "      <th>Age</th>\n",
       "      <th>Driving_License</th>\n",
       "      <th>Region_Code</th>\n",
       "      <th>Previously_Insured</th>\n",
       "      <th>Vehicle_Age</th>\n",
       "      <th>Vehicle_Damage</th>\n",
       "      <th>Annual_Premium</th>\n",
       "      <th>Policy_Sales_Channel</th>\n",
       "      <th>Vintage</th>\n",
       "      <th>Response</th>\n",
       "    </tr>\n",
       "  </thead>\n",
       "  <tbody>\n",
       "    <tr>\n",
       "      <th>0</th>\n",
       "      <td>1</td>\n",
       "      <td>44</td>\n",
       "      <td>1</td>\n",
       "      <td>28.0</td>\n",
       "      <td>0</td>\n",
       "      <td>2</td>\n",
       "      <td>1</td>\n",
       "      <td>40454.0</td>\n",
       "      <td>26.0</td>\n",
       "      <td>217</td>\n",
       "      <td>1</td>\n",
       "    </tr>\n",
       "    <tr>\n",
       "      <th>1</th>\n",
       "      <td>1</td>\n",
       "      <td>76</td>\n",
       "      <td>1</td>\n",
       "      <td>3.0</td>\n",
       "      <td>0</td>\n",
       "      <td>0</td>\n",
       "      <td>0</td>\n",
       "      <td>33536.0</td>\n",
       "      <td>26.0</td>\n",
       "      <td>183</td>\n",
       "      <td>0</td>\n",
       "    </tr>\n",
       "  </tbody>\n",
       "</table>\n",
       "</div>"
      ],
      "text/plain": [
       "   Gender  Age  Driving_License  Region_Code  Previously_Insured  Vehicle_Age  \\\n",
       "0       1   44                1         28.0                   0            2   \n",
       "1       1   76                1          3.0                   0            0   \n",
       "\n",
       "   Vehicle_Damage  Annual_Premium  Policy_Sales_Channel  Vintage  Response  \n",
       "0               1         40454.0                  26.0      217         1  \n",
       "1               0         33536.0                  26.0      183         0  "
      ]
     },
     "execution_count": 14,
     "metadata": {},
     "output_type": "execute_result"
    }
   ],
   "source": [
    "d1.head(2)"
   ]
  },
  {
   "cell_type": "code",
   "execution_count": 15,
   "id": "814ae122",
   "metadata": {},
   "outputs": [
    {
     "data": {
      "text/plain": [
       "(381109, 11)"
      ]
     },
     "execution_count": 15,
     "metadata": {},
     "output_type": "execute_result"
    }
   ],
   "source": [
    "d1.shape"
   ]
  },
  {
   "cell_type": "code",
   "execution_count": 16,
   "id": "36b32717",
   "metadata": {},
   "outputs": [
    {
     "data": {
      "text/plain": [
       "1    192413\n",
       "0    188696\n",
       "Name: Vehicle_Damage, dtype: int64"
      ]
     },
     "execution_count": 16,
     "metadata": {},
     "output_type": "execute_result"
    }
   ],
   "source": [
    "d1.Vehicle_Damage.value_counts()"
   ]
  },
  {
   "cell_type": "code",
   "execution_count": 17,
   "id": "2b92a2af",
   "metadata": {},
   "outputs": [],
   "source": [
    "x=d1.iloc[:,0:-1]\n",
    "y=d1.iloc[:,-1]"
   ]
  },
  {
   "cell_type": "code",
   "execution_count": 18,
   "id": "b8aa3be7",
   "metadata": {},
   "outputs": [
    {
     "data": {
      "text/html": [
       "<div>\n",
       "<style scoped>\n",
       "    .dataframe tbody tr th:only-of-type {\n",
       "        vertical-align: middle;\n",
       "    }\n",
       "\n",
       "    .dataframe tbody tr th {\n",
       "        vertical-align: top;\n",
       "    }\n",
       "\n",
       "    .dataframe thead th {\n",
       "        text-align: right;\n",
       "    }\n",
       "</style>\n",
       "<table border=\"1\" class=\"dataframe\">\n",
       "  <thead>\n",
       "    <tr style=\"text-align: right;\">\n",
       "      <th></th>\n",
       "      <th>Gender</th>\n",
       "      <th>Age</th>\n",
       "      <th>Driving_License</th>\n",
       "      <th>Region_Code</th>\n",
       "      <th>Previously_Insured</th>\n",
       "      <th>Vehicle_Age</th>\n",
       "      <th>Vehicle_Damage</th>\n",
       "      <th>Annual_Premium</th>\n",
       "      <th>Policy_Sales_Channel</th>\n",
       "      <th>Vintage</th>\n",
       "    </tr>\n",
       "  </thead>\n",
       "  <tbody>\n",
       "    <tr>\n",
       "      <th>0</th>\n",
       "      <td>1</td>\n",
       "      <td>44</td>\n",
       "      <td>1</td>\n",
       "      <td>28.0</td>\n",
       "      <td>0</td>\n",
       "      <td>2</td>\n",
       "      <td>1</td>\n",
       "      <td>40454.0</td>\n",
       "      <td>26.0</td>\n",
       "      <td>217</td>\n",
       "    </tr>\n",
       "    <tr>\n",
       "      <th>1</th>\n",
       "      <td>1</td>\n",
       "      <td>76</td>\n",
       "      <td>1</td>\n",
       "      <td>3.0</td>\n",
       "      <td>0</td>\n",
       "      <td>0</td>\n",
       "      <td>0</td>\n",
       "      <td>33536.0</td>\n",
       "      <td>26.0</td>\n",
       "      <td>183</td>\n",
       "    </tr>\n",
       "    <tr>\n",
       "      <th>2</th>\n",
       "      <td>1</td>\n",
       "      <td>47</td>\n",
       "      <td>1</td>\n",
       "      <td>28.0</td>\n",
       "      <td>0</td>\n",
       "      <td>2</td>\n",
       "      <td>1</td>\n",
       "      <td>38294.0</td>\n",
       "      <td>26.0</td>\n",
       "      <td>27</td>\n",
       "    </tr>\n",
       "    <tr>\n",
       "      <th>3</th>\n",
       "      <td>1</td>\n",
       "      <td>21</td>\n",
       "      <td>1</td>\n",
       "      <td>11.0</td>\n",
       "      <td>1</td>\n",
       "      <td>1</td>\n",
       "      <td>0</td>\n",
       "      <td>28619.0</td>\n",
       "      <td>152.0</td>\n",
       "      <td>203</td>\n",
       "    </tr>\n",
       "    <tr>\n",
       "      <th>4</th>\n",
       "      <td>0</td>\n",
       "      <td>29</td>\n",
       "      <td>1</td>\n",
       "      <td>41.0</td>\n",
       "      <td>1</td>\n",
       "      <td>1</td>\n",
       "      <td>0</td>\n",
       "      <td>27496.0</td>\n",
       "      <td>152.0</td>\n",
       "      <td>39</td>\n",
       "    </tr>\n",
       "  </tbody>\n",
       "</table>\n",
       "</div>"
      ],
      "text/plain": [
       "   Gender  Age  Driving_License  Region_Code  Previously_Insured  Vehicle_Age  \\\n",
       "0       1   44                1         28.0                   0            2   \n",
       "1       1   76                1          3.0                   0            0   \n",
       "2       1   47                1         28.0                   0            2   \n",
       "3       1   21                1         11.0                   1            1   \n",
       "4       0   29                1         41.0                   1            1   \n",
       "\n",
       "   Vehicle_Damage  Annual_Premium  Policy_Sales_Channel  Vintage  \n",
       "0               1         40454.0                  26.0      217  \n",
       "1               0         33536.0                  26.0      183  \n",
       "2               1         38294.0                  26.0       27  \n",
       "3               0         28619.0                 152.0      203  \n",
       "4               0         27496.0                 152.0       39  "
      ]
     },
     "execution_count": 18,
     "metadata": {},
     "output_type": "execute_result"
    }
   ],
   "source": [
    "x.head()"
   ]
  },
  {
   "cell_type": "code",
   "execution_count": 19,
   "id": "7c6dc84f",
   "metadata": {},
   "outputs": [
    {
     "data": {
      "text/plain": [
       "0    1\n",
       "1    0\n",
       "Name: Response, dtype: int64"
      ]
     },
     "execution_count": 19,
     "metadata": {},
     "output_type": "execute_result"
    }
   ],
   "source": [
    "y.head(2)"
   ]
  },
  {
   "cell_type": "code",
   "execution_count": 20,
   "id": "ab400cb5",
   "metadata": {},
   "outputs": [
    {
     "data": {
      "text/plain": [
       "((304887, 10), (76222, 10), (304887,), (76222,))"
      ]
     },
     "execution_count": 20,
     "metadata": {},
     "output_type": "execute_result"
    }
   ],
   "source": [
    "from sklearn.model_selection import train_test_split\n",
    "from sklearn.metrics import precision_score,recall_score, confusion_matrix, classification_report, accuracy_score, f1_score\n",
    "x_train,x_test,y_train,y_test=train_test_split(x,y,test_size=0.2,random_state=101)\n",
    "x_train.shape,x_test.shape,y_train.shape,y_test.shape"
   ]
  },
  {
   "cell_type": "markdown",
   "id": "58d66262",
   "metadata": {},
   "source": [
    "# Logistic Regression"
   ]
  },
  {
   "cell_type": "code",
   "execution_count": 21,
   "id": "10d75042",
   "metadata": {},
   "outputs": [
    {
     "data": {
      "text/plain": [
       "array([[66881,    90],\n",
       "       [ 9223,    28]], dtype=int64)"
      ]
     },
     "execution_count": 21,
     "metadata": {},
     "output_type": "execute_result"
    }
   ],
   "source": [
    "from sklearn.linear_model import LogisticRegression\n",
    "lg=LogisticRegression()\n",
    "lg.fit(x_train,y_train)\n",
    "p1=lg.predict(x_test)\n",
    "#p1\n",
    "from sklearn.metrics import confusion_matrix\n",
    "cf1=confusion_matrix(y_test,p1)\n",
    "cf1 "
   ]
  },
  {
   "cell_type": "code",
   "execution_count": 22,
   "id": "8bb23457",
   "metadata": {},
   "outputs": [
    {
     "data": {
      "text/plain": [
       "87.78174280391488"
      ]
     },
     "execution_count": 22,
     "metadata": {},
     "output_type": "execute_result"
    }
   ],
   "source": [
    "ac1=cf1.diagonal().sum()/cf1.sum()*100\n",
    "ac1"
   ]
  },
  {
   "cell_type": "code",
   "execution_count": 23,
   "id": "241fb3ff",
   "metadata": {},
   "outputs": [
    {
     "name": "stdout",
     "output_type": "stream",
     "text": [
      "              precision    recall  f1-score   support\n",
      "\n",
      "           0       0.88      1.00      0.93     66971\n",
      "           1       0.24      0.00      0.01      9251\n",
      "\n",
      "    accuracy                           0.88     76222\n",
      "   macro avg       0.56      0.50      0.47     76222\n",
      "weighted avg       0.80      0.88      0.82     76222\n",
      "\n"
     ]
    }
   ],
   "source": [
    "from sklearn.metrics import classification_report\n",
    "print(classification_report(y_test,p1))"
   ]
  },
  {
   "cell_type": "code",
   "execution_count": 24,
   "id": "fdf98641",
   "metadata": {},
   "outputs": [
    {
     "name": "stdout",
     "output_type": "stream",
     "text": [
      "0.005977158714910877 0.23728813559322035 0.0030266998162360825\n"
     ]
    }
   ],
   "source": [
    "lg_f1=f1_score(y_test,p1)\n",
    "lg_pr1=precision_score(y_test,p1)\n",
    "lg_r1=recall_score(y_test,p1)\n",
    "print(lg_f1,lg_pr1,lg_r1)\n"
   ]
  },
  {
   "cell_type": "markdown",
   "id": "2445e573",
   "metadata": {},
   "source": [
    "# Decision Tree"
   ]
  },
  {
   "cell_type": "code",
   "execution_count": 25,
   "id": "7065a1eb",
   "metadata": {},
   "outputs": [
    {
     "data": {
      "text/plain": [
       "array([[60059,  6912],\n",
       "       [ 6373,  2878]], dtype=int64)"
      ]
     },
     "execution_count": 25,
     "metadata": {},
     "output_type": "execute_result"
    }
   ],
   "source": [
    "from sklearn.tree import DecisionTreeClassifier\n",
    "dt=DecisionTreeClassifier()\n",
    "dt.fit(x_train,y_train)\n",
    "dt_p=dt.predict(x_test)\n",
    "#dt_p\n",
    "dt_c=confusion_matrix(y_test,dt_p)\n",
    "dt_c"
   ]
  },
  {
   "cell_type": "code",
   "execution_count": 26,
   "id": "0213d647",
   "metadata": {},
   "outputs": [
    {
     "data": {
      "text/plain": [
       "82.57064889402011"
      ]
     },
     "execution_count": 26,
     "metadata": {},
     "output_type": "execute_result"
    }
   ],
   "source": [
    "dt_ac=dt_c.diagonal().sum()/dt_c.sum()*100\n",
    "dt_ac"
   ]
  },
  {
   "cell_type": "code",
   "execution_count": 27,
   "id": "77c4abf0",
   "metadata": {},
   "outputs": [
    {
     "name": "stdout",
     "output_type": "stream",
     "text": [
      "              precision    recall  f1-score   support\n",
      "\n",
      "           0       0.90      0.90      0.90     66971\n",
      "           1       0.29      0.31      0.30      9251\n",
      "\n",
      "    accuracy                           0.83     76222\n",
      "   macro avg       0.60      0.60      0.60     76222\n",
      "weighted avg       0.83      0.83      0.83     76222\n",
      "\n"
     ]
    }
   ],
   "source": [
    "\n",
    "from sklearn.metrics import classification_report\n",
    "print(classification_report(y_test,dt_p))"
   ]
  },
  {
   "cell_type": "code",
   "execution_count": 28,
   "id": "a7e752c9",
   "metadata": {},
   "outputs": [
    {
     "name": "stdout",
     "output_type": "stream",
     "text": [
      "0.3022950475290163 0.293973442288049 0.3111015025402659\n"
     ]
    }
   ],
   "source": [
    "dt_f1=f1_score(y_test,dt_p)\n",
    "dt_pr1=precision_score(y_test,dt_p)\n",
    "dt_r1=recall_score(y_test,dt_p)\n",
    "print(dt_f1,dt_pr1,dt_r1)"
   ]
  },
  {
   "cell_type": "markdown",
   "id": "05249125",
   "metadata": {},
   "source": [
    "# Random Forest"
   ]
  },
  {
   "cell_type": "code",
   "execution_count": 29,
   "id": "0a4bd2fb",
   "metadata": {},
   "outputs": [
    {
     "data": {
      "text/plain": [
       "array([[65016,  8136],\n",
       "       [ 1955,  1115]], dtype=int64)"
      ]
     },
     "execution_count": 29,
     "metadata": {},
     "output_type": "execute_result"
    }
   ],
   "source": [
    "from sklearn.ensemble import RandomForestClassifier\n",
    "rf=RandomForestClassifier()\n",
    "rf.fit(x_train,y_train)\n",
    "rf_p=rf.predict(x_test)\n",
    "rf_c=confusion_matrix(rf_p,y_test)#Wrong\n",
    "rf_c"
   ]
  },
  {
   "cell_type": "code",
   "execution_count": 30,
   "id": "fb8ed626",
   "metadata": {},
   "outputs": [
    {
     "data": {
      "text/plain": [
       "86.76104011965049"
      ]
     },
     "execution_count": 30,
     "metadata": {},
     "output_type": "execute_result"
    }
   ],
   "source": [
    "rf_ac=rf_c.diagonal().sum()/rf_c.sum()*100\n",
    "rf_ac"
   ]
  },
  {
   "cell_type": "code",
   "execution_count": 31,
   "id": "26ad2101",
   "metadata": {
    "scrolled": true
   },
   "outputs": [
    {
     "name": "stdout",
     "output_type": "stream",
     "text": [
      "              precision    recall  f1-score   support\n",
      "\n",
      "           0       0.97      0.89      0.93     73152\n",
      "           1       0.12      0.36      0.18      3070\n",
      "\n",
      "    accuracy                           0.87     76222\n",
      "   macro avg       0.55      0.63      0.55     76222\n",
      "weighted avg       0.94      0.87      0.90     76222\n",
      "\n"
     ]
    }
   ],
   "source": [
    "print(classification_report(rf_p,y_test))"
   ]
  },
  {
   "cell_type": "code",
   "execution_count": 32,
   "id": "dd1d61e7",
   "metadata": {},
   "outputs": [
    {
     "name": "stdout",
     "output_type": "stream",
     "text": [
      "0.18099180261342424 0.36319218241042345 0.12052751053940114\n"
     ]
    }
   ],
   "source": [
    "rf_f1=f1_score(y_test,rf_p)\n",
    "rf_pr1=precision_score(y_test,rf_p)\n",
    "rf_r1=recall_score(y_test,rf_p)\n",
    "print(rf_f1,rf_pr1,rf_r1)"
   ]
  },
  {
   "cell_type": "markdown",
   "id": "bf793796",
   "metadata": {},
   "source": [
    "# XGBoost"
   ]
  },
  {
   "cell_type": "code",
   "execution_count": 33,
   "id": "3e43df31",
   "metadata": {},
   "outputs": [
    {
     "data": {
      "text/plain": [
       "array([[66691,   280],\n",
       "       [ 9021,   230]], dtype=int64)"
      ]
     },
     "execution_count": 33,
     "metadata": {},
     "output_type": "execute_result"
    }
   ],
   "source": [
    "import xgboost\n",
    "from xgboost import XGBClassifier\n",
    "xgb=XGBClassifier()\n",
    "xgb.fit(x_train,y_train)\n",
    "xgb_p=xgb.predict(x_test)\n",
    "from sklearn.metrics import confusion_matrix\n",
    "xgb_cf=confusion_matrix(y_test,xgb_p)\n",
    "xgb_cf"
   ]
  },
  {
   "cell_type": "code",
   "execution_count": 34,
   "id": "a9006176",
   "metadata": {},
   "outputs": [
    {
     "data": {
      "text/plain": [
       "87.79748629004749"
      ]
     },
     "execution_count": 34,
     "metadata": {},
     "output_type": "execute_result"
    }
   ],
   "source": [
    "xgb_ac=xgb_cf.diagonal().sum()/xgb_cf.sum()*100\n",
    "xgb_ac"
   ]
  },
  {
   "cell_type": "code",
   "execution_count": 35,
   "id": "6d859e03",
   "metadata": {},
   "outputs": [
    {
     "name": "stdout",
     "output_type": "stream",
     "text": [
      "              precision    recall  f1-score   support\n",
      "\n",
      "           0       0.88      1.00      0.93     66971\n",
      "           1       0.45      0.02      0.05      9251\n",
      "\n",
      "    accuracy                           0.88     76222\n",
      "   macro avg       0.67      0.51      0.49     76222\n",
      "weighted avg       0.83      0.88      0.83     76222\n",
      "\n"
     ]
    }
   ],
   "source": [
    "from sklearn.metrics import classification_report\n",
    "print(classification_report(y_test,xgb_p))"
   ]
  },
  {
   "cell_type": "code",
   "execution_count": 36,
   "id": "c9450ee5",
   "metadata": {},
   "outputs": [
    {
     "name": "stdout",
     "output_type": "stream",
     "text": [
      "0.0471263190246901 0.45098039215686275 0.02486217706193925\n"
     ]
    }
   ],
   "source": [
    "xgb_f1=f1_score(y_test,xgb_p)\n",
    "xgb_pr1=precision_score(y_test,xgb_p)\n",
    "xgb_r1=recall_score(y_test,xgb_p)\n",
    "print(xgb_f1,xgb_pr1,xgb_r1)"
   ]
  },
  {
   "cell_type": "markdown",
   "id": "123123a8",
   "metadata": {},
   "source": [
    "# NB(Naive Baye's)"
   ]
  },
  {
   "cell_type": "code",
   "execution_count": 37,
   "id": "b0fe2695",
   "metadata": {},
   "outputs": [],
   "source": [
    "from sklearn.naive_bayes import MultinomialNB\n",
    "nb=MultinomialNB()"
   ]
  },
  {
   "cell_type": "code",
   "execution_count": 38,
   "id": "a84ce54b",
   "metadata": {},
   "outputs": [
    {
     "data": {
      "text/plain": [
       "array([[46685, 20286],\n",
       "       [ 4648,  4603]], dtype=int64)"
      ]
     },
     "execution_count": 38,
     "metadata": {},
     "output_type": "execute_result"
    }
   ],
   "source": [
    "nb.fit(x_train,y_train)\n",
    "nb_p1=nb.predict(x_test)\n",
    "nb_c1=confusion_matrix(y_test,nb_p1)\n",
    "nb_c1"
   ]
  },
  {
   "cell_type": "code",
   "execution_count": 39,
   "id": "d8390f88",
   "metadata": {},
   "outputs": [
    {
     "data": {
      "text/plain": [
       "67.28765973078639"
      ]
     },
     "execution_count": 39,
     "metadata": {},
     "output_type": "execute_result"
    }
   ],
   "source": [
    "nb_ac1=nb_c1.diagonal().sum()/nb_c1.sum()*100\n",
    "nb_ac1"
   ]
  },
  {
   "cell_type": "code",
   "execution_count": 40,
   "id": "ac4ad828",
   "metadata": {},
   "outputs": [
    {
     "name": "stdout",
     "output_type": "stream",
     "text": [
      "              precision    recall  f1-score   support\n",
      "\n",
      "           0       0.91      0.70      0.79     66971\n",
      "           1       0.18      0.50      0.27      9251\n",
      "\n",
      "    accuracy                           0.67     76222\n",
      "   macro avg       0.55      0.60      0.53     76222\n",
      "weighted avg       0.82      0.67      0.73     76222\n",
      "\n"
     ]
    }
   ],
   "source": [
    "print(classification_report(y_test,nb_p1))"
   ]
  },
  {
   "cell_type": "code",
   "execution_count": 41,
   "id": "f90323af",
   "metadata": {},
   "outputs": [
    {
     "name": "stdout",
     "output_type": "stream",
     "text": [
      "0.2696543643819566 0.184941138655631 0.4975678305048103\n"
     ]
    }
   ],
   "source": [
    "nb_f1=f1_score(y_test,nb_p1)\n",
    "nb_pr1=precision_score(y_test,nb_p1)\n",
    "nb_r1=recall_score(y_test,nb_p1)\n",
    "print(nb_f1,nb_pr1,nb_r1)"
   ]
  },
  {
   "cell_type": "code",
   "execution_count": 42,
   "id": "1caff3bf",
   "metadata": {},
   "outputs": [],
   "source": [
    "A1=[\"LR\",\"DT\",\"RF\",\"XGB\",\"NB\"]\n",
    "A2=[ac1,dt_ac,rf_ac,xgb_ac,nb_ac1]\n",
    "A3=[lg_pr1,dt_pr1,rf_pr1,xgb_pr1,nb_pr1]\n",
    "A4=[lg_r1,dt_r1,rf_r1,xgb_r1,nb_r1]\n",
    "A5=[lg_f1,dt_f1,rf_f1,xgb_f1,nb_f1]"
   ]
  },
  {
   "cell_type": "code",
   "execution_count": 43,
   "id": "8743a1d8",
   "metadata": {},
   "outputs": [
    {
     "data": {
      "text/html": [
       "<div>\n",
       "<style scoped>\n",
       "    .dataframe tbody tr th:only-of-type {\n",
       "        vertical-align: middle;\n",
       "    }\n",
       "\n",
       "    .dataframe tbody tr th {\n",
       "        vertical-align: top;\n",
       "    }\n",
       "\n",
       "    .dataframe thead th {\n",
       "        text-align: right;\n",
       "    }\n",
       "</style>\n",
       "<table border=\"1\" class=\"dataframe\">\n",
       "  <thead>\n",
       "    <tr style=\"text-align: right;\">\n",
       "      <th></th>\n",
       "      <th>Model</th>\n",
       "      <th>Accuracy</th>\n",
       "      <th>Precision</th>\n",
       "      <th>Recall</th>\n",
       "      <th>f1_score</th>\n",
       "    </tr>\n",
       "  </thead>\n",
       "  <tbody>\n",
       "    <tr>\n",
       "      <th>0</th>\n",
       "      <td>LR</td>\n",
       "      <td>87.781743</td>\n",
       "      <td>0.237288</td>\n",
       "      <td>0.003027</td>\n",
       "      <td>0.005977</td>\n",
       "    </tr>\n",
       "    <tr>\n",
       "      <th>1</th>\n",
       "      <td>DT</td>\n",
       "      <td>82.570649</td>\n",
       "      <td>0.293973</td>\n",
       "      <td>0.311102</td>\n",
       "      <td>0.302295</td>\n",
       "    </tr>\n",
       "    <tr>\n",
       "      <th>2</th>\n",
       "      <td>RF</td>\n",
       "      <td>86.761040</td>\n",
       "      <td>0.363192</td>\n",
       "      <td>0.120528</td>\n",
       "      <td>0.180992</td>\n",
       "    </tr>\n",
       "    <tr>\n",
       "      <th>3</th>\n",
       "      <td>XGB</td>\n",
       "      <td>87.797486</td>\n",
       "      <td>0.450980</td>\n",
       "      <td>0.024862</td>\n",
       "      <td>0.047126</td>\n",
       "    </tr>\n",
       "    <tr>\n",
       "      <th>4</th>\n",
       "      <td>NB</td>\n",
       "      <td>67.287660</td>\n",
       "      <td>0.184941</td>\n",
       "      <td>0.497568</td>\n",
       "      <td>0.269654</td>\n",
       "    </tr>\n",
       "  </tbody>\n",
       "</table>\n",
       "</div>"
      ],
      "text/plain": [
       "  Model   Accuracy  Precision    Recall  f1_score\n",
       "0    LR  87.781743   0.237288  0.003027  0.005977\n",
       "1    DT  82.570649   0.293973  0.311102  0.302295\n",
       "2    RF  86.761040   0.363192  0.120528  0.180992\n",
       "3   XGB  87.797486   0.450980  0.024862  0.047126\n",
       "4    NB  67.287660   0.184941  0.497568  0.269654"
      ]
     },
     "execution_count": 43,
     "metadata": {},
     "output_type": "execute_result"
    }
   ],
   "source": [
    "final_df=pd.DataFrame({\"Model\":A1,\"Accuracy\":A2,\"Precision\":A3,\"Recall\":A4,\"f1_score\":A5})\n",
    "final_df"
   ]
  },
  {
   "cell_type": "markdown",
   "id": "9cd7d7b5",
   "metadata": {},
   "source": [
    "# Random Under Sampling(Class Imbalance)"
   ]
  },
  {
   "cell_type": "code",
   "execution_count": 44,
   "id": "68f23c49",
   "metadata": {},
   "outputs": [],
   "source": [
    "#d1.shape"
   ]
  },
  {
   "cell_type": "code",
   "execution_count": 45,
   "id": "816c5016",
   "metadata": {},
   "outputs": [],
   "source": [
    "#d1.Response.value_counts()"
   ]
  },
  {
   "cell_type": "code",
   "execution_count": 46,
   "id": "901f9bfd",
   "metadata": {},
   "outputs": [],
   "source": [
    "#c_0,c_1=d1[\"Response\"].value_counts()\n",
    "#c_0,c_1"
   ]
  },
  {
   "cell_type": "code",
   "execution_count": 47,
   "id": "e8d252e0",
   "metadata": {},
   "outputs": [],
   "source": [
    "#train_0=d1[d1[\"Response\"]==0]# all zeros record\n",
    "#train_1=d1[d1[\"Response\"]==1]#all ones record\n",
    "#train_0.shape,train_1.shape"
   ]
  },
  {
   "cell_type": "code",
   "execution_count": 48,
   "id": "848cc688",
   "metadata": {},
   "outputs": [],
   "source": [
    "#class_0under=train_0.sample(c_1)"
   ]
  },
  {
   "cell_type": "code",
   "execution_count": 49,
   "id": "0d901d9a",
   "metadata": {},
   "outputs": [],
   "source": [
    "#class_0under.shape,train_1.shape"
   ]
  },
  {
   "cell_type": "code",
   "execution_count": 50,
   "id": "d613d5de",
   "metadata": {},
   "outputs": [],
   "source": [
    "#class0_1=pd.concat([class_0under,train_1],axis=0)#axis=0 row wise\n",
    "#class0_1.head\n",
    "#class0_1.shape"
   ]
  },
  {
   "cell_type": "code",
   "execution_count": 51,
   "id": "4de6e880",
   "metadata": {},
   "outputs": [],
   "source": [
    "#class0_1.Response.value_counts()"
   ]
  },
  {
   "cell_type": "code",
   "execution_count": 52,
   "id": "bf15f641",
   "metadata": {},
   "outputs": [],
   "source": [
    "#x=class0_1.iloc[:,1:-1]\n",
    "#y=class0_1.iloc[:,-1]"
   ]
  },
  {
   "cell_type": "code",
   "execution_count": 53,
   "id": "985c36c8",
   "metadata": {},
   "outputs": [],
   "source": [
    "#from sklearn.model_selection import train_test_split\n",
    "#x_tr,x_te,y_tr,y_te=train_test_split(x,y,test_size=0.2,random_state=100)\n",
    "#x_tr.shape,x_te.shape,y_tr.shape,y_te.shape"
   ]
  },
  {
   "cell_type": "markdown",
   "id": "4db96107",
   "metadata": {},
   "source": [
    "# IMBlearn Under_Sampling Technique"
   ]
  },
  {
   "cell_type": "code",
   "execution_count": 54,
   "id": "a834bca7",
   "metadata": {},
   "outputs": [],
   "source": [
    "#import imblearn\n",
    "#from imblearn.under_sampling import RandomUnderSampler"
   ]
  },
  {
   "cell_type": "code",
   "execution_count": 55,
   "id": "4e4f14b8",
   "metadata": {},
   "outputs": [],
   "source": [
    "#d1.Response.value_counts()"
   ]
  },
  {
   "cell_type": "code",
   "execution_count": 56,
   "id": "7a010def",
   "metadata": {},
   "outputs": [],
   "source": [
    "#d1_x=d1.iloc[:,1:-1]\n",
    "#d1_y=d1.iloc[:,-1]"
   ]
  },
  {
   "cell_type": "code",
   "execution_count": 57,
   "id": "69ac6a0b",
   "metadata": {},
   "outputs": [],
   "source": [
    "#r=RandomUnderSampler(sampling_strategy=\"all\")"
   ]
  },
  {
   "cell_type": "code",
   "execution_count": 58,
   "id": "11fca669",
   "metadata": {},
   "outputs": [],
   "source": [
    "#x1,y1,=r.fit_resample(d1_x,d1_y)\n",
    "#x1.shape,y1.shape\n"
   ]
  },
  {
   "cell_type": "code",
   "execution_count": 59,
   "id": "0c55f2e2",
   "metadata": {},
   "outputs": [],
   "source": [
    "#x_tr1,x_te1,y_tr1,y_te1=train_test_split(x1,y1,test_size=0.2,random_state=100)\n",
    "#x_tr1.shape,x_te1.shape,y_tr1.shape,y_te1.shape"
   ]
  },
  {
   "cell_type": "markdown",
   "id": "4c776ba2",
   "metadata": {},
   "source": [
    "# Near Miss Under_Sampling Technique"
   ]
  },
  {
   "cell_type": "code",
   "execution_count": 60,
   "id": "42311ee4",
   "metadata": {},
   "outputs": [],
   "source": [
    "from imblearn.under_sampling import NearMiss\n",
    "nm=NearMiss()"
   ]
  },
  {
   "cell_type": "code",
   "execution_count": 61,
   "id": "f016373b",
   "metadata": {},
   "outputs": [],
   "source": [
    "x_3=d1.iloc[:,0:-1]\n",
    "y_3=d1.iloc[:,-1]"
   ]
  },
  {
   "cell_type": "code",
   "execution_count": null,
   "id": "01bf1b33",
   "metadata": {},
   "outputs": [],
   "source": [
    "x1,y1=nm.fit_resample(x_3,y_3)"
   ]
  },
  {
   "cell_type": "code",
   "execution_count": null,
   "id": "517634d2",
   "metadata": {
    "scrolled": true
   },
   "outputs": [],
   "source": [
    "x1.shape,y1.shape"
   ]
  },
  {
   "cell_type": "code",
   "execution_count": null,
   "id": "41d314ae",
   "metadata": {},
   "outputs": [],
   "source": [
    "final_df7=pd.concat([x1,y1],axis=1)\n",
    "final_df7.head(2)"
   ]
  },
  {
   "cell_type": "code",
   "execution_count": null,
   "id": "11b50a2e",
   "metadata": {},
   "outputs": [],
   "source": [
    "y1.value_counts()"
   ]
  },
  {
   "cell_type": "code",
   "execution_count": null,
   "id": "7326cb09",
   "metadata": {},
   "outputs": [],
   "source": [
    "x_train2,x_test2,y_train2,y_test2=train_test_split(x_3,y_3,test_size=0.2,random_state=101)\n",
    "x_train2.shape,x_test2.shape,y_train2.shape,y_test2.shape"
   ]
  },
  {
   "cell_type": "markdown",
   "id": "085eb9d9",
   "metadata": {},
   "source": [
    "# Random Over_Sampling"
   ]
  },
  {
   "cell_type": "code",
   "execution_count": null,
   "id": "257e949a",
   "metadata": {},
   "outputs": [],
   "source": [
    "#c_0,c_1#icreases the record which are less in number"
   ]
  },
  {
   "cell_type": "code",
   "execution_count": null,
   "id": "3b881ce3",
   "metadata": {},
   "outputs": [],
   "source": [
    "#class_1over=train_1.sample(c_0,replace=True)"
   ]
  },
  {
   "cell_type": "code",
   "execution_count": null,
   "id": "501dfd80",
   "metadata": {},
   "outputs": [],
   "source": [
    "#class_1over.head()\n",
    "#class_1over.shape,train_0.shape"
   ]
  },
  {
   "cell_type": "code",
   "execution_count": null,
   "id": "c5cb4981",
   "metadata": {},
   "outputs": [],
   "source": [
    "#class1_0=pd.concat([class_1over,train_0],axis=0)\n",
    "#class1_0.shape"
   ]
  },
  {
   "cell_type": "code",
   "execution_count": null,
   "id": "bce92a84",
   "metadata": {},
   "outputs": [],
   "source": [
    "#class1_0.Response.value_counts()"
   ]
  },
  {
   "cell_type": "code",
   "execution_count": null,
   "id": "202a6b8c",
   "metadata": {},
   "outputs": [],
   "source": [
    "#x1=class1_0.iloc[:,1:-1]\n",
    "#y1=class1_0.iloc[:,-1]"
   ]
  },
  {
   "cell_type": "code",
   "execution_count": null,
   "id": "e2a0befe",
   "metadata": {},
   "outputs": [],
   "source": [
    "#x2_train,x2_test,y2_train,y2_test=train_test_split(x1,y1,test_size=0.2,random_state=100)\n",
    "#x2_train.shape,x2_test.shape,y2_train.shape,y2_test.shape"
   ]
  },
  {
   "cell_type": "markdown",
   "id": "7bc4df69",
   "metadata": {},
   "source": [
    "# IMBLearn Over_Sampling Technique"
   ]
  },
  {
   "cell_type": "code",
   "execution_count": null,
   "id": "ed5b910d",
   "metadata": {},
   "outputs": [],
   "source": [
    "#x9=d1.iloc[:,1:-1]"
   ]
  },
  {
   "cell_type": "code",
   "execution_count": null,
   "id": "8fcafc27",
   "metadata": {},
   "outputs": [],
   "source": [
    "#y9=d1.iloc[:,-1]"
   ]
  },
  {
   "cell_type": "code",
   "execution_count": null,
   "id": "736d37f0",
   "metadata": {},
   "outputs": [],
   "source": [
    "#from imblearn.over_sampling import RandomOverSampler\n",
    "#a1=RandomOverSampler(random_state=42)"
   ]
  },
  {
   "cell_type": "code",
   "execution_count": null,
   "id": "5764f039",
   "metadata": {},
   "outputs": [],
   "source": [
    "#x5,y5=a1.fit_resample(x9,y9)"
   ]
  },
  {
   "cell_type": "code",
   "execution_count": null,
   "id": "b90eda84",
   "metadata": {},
   "outputs": [],
   "source": [
    "#x5.shape,y5.shape"
   ]
  },
  {
   "cell_type": "code",
   "execution_count": null,
   "id": "db298bfb",
   "metadata": {},
   "outputs": [],
   "source": [
    "#x5_tr,x5_te,y5_tr,y5_te=train_test_split(x5,y5,test_size=0.2,random_state=100)\n",
    "#x5_tr.shape,x5_te.shape,y5_tr.shape,y5_te.shape"
   ]
  },
  {
   "cell_type": "markdown",
   "id": "e8ab8a35",
   "metadata": {},
   "source": [
    "# SMOTE(Synthetic Minority Oversampling Technique)"
   ]
  },
  {
   "cell_type": "code",
   "execution_count": null,
   "id": "3de067a6",
   "metadata": {},
   "outputs": [],
   "source": [
    "#x11=d1.iloc[:,1:-1]\n",
    "#y11=d1.iloc[:,-1]"
   ]
  },
  {
   "cell_type": "code",
   "execution_count": null,
   "id": "4c09b963",
   "metadata": {},
   "outputs": [],
   "source": [
    "#y11.value_counts() #imbalance values"
   ]
  },
  {
   "cell_type": "code",
   "execution_count": null,
   "id": "b73f674c",
   "metadata": {},
   "outputs": [],
   "source": [
    "#from imblearn.over_sampling import SMOTE\n",
    "#smote=SMOTE()\n",
    "#xsmote,ysmote=smote.fit_resample(x11,y11)\n",
    "#xsmote.shape,ysmote.shape"
   ]
  },
  {
   "cell_type": "code",
   "execution_count": null,
   "id": "f88f34e3",
   "metadata": {},
   "outputs": [],
   "source": [
    "#ysmote.value_counts()"
   ]
  },
  {
   "cell_type": "code",
   "execution_count": null,
   "id": "ec968ff1",
   "metadata": {},
   "outputs": [],
   "source": [
    "#xsmote_tr,xsmote_te,ysmote_tr,ysmote_te=train_test_split(xsmote,ysmote,test_size=0.2,random_state=100)\n",
    "#xsmote_tr.shape,xsmote_te.shape,ysmote_tr.shape,ysmote_te.shape"
   ]
  },
  {
   "cell_type": "code",
   "execution_count": null,
   "id": "011d03a9",
   "metadata": {},
   "outputs": [],
   "source": [
    "#d1_n=d1.corr()\n",
    "#d1_n"
   ]
  },
  {
   "cell_type": "code",
   "execution_count": null,
   "id": "e59405a6",
   "metadata": {},
   "outputs": [],
   "source": [
    "#final_df7.skew()"
   ]
  },
  {
   "cell_type": "code",
   "execution_count": null,
   "id": "c062f245",
   "metadata": {},
   "outputs": [],
   "source": [
    "import matplotlib.pyplot as plt\n",
    "import seaborn as sns"
   ]
  },
  {
   "cell_type": "code",
   "execution_count": null,
   "id": "dadf4019",
   "metadata": {},
   "outputs": [],
   "source": [
    "#plt.figure(figsize=(14,7))\n",
    "#heatmap=sns.heatmap(d1,linewidth=2,annot=True,cmap=plt.cm.viridis)#YlGnBu\n",
    "#plt.title(\"Heatmap using Seaborn\")\n",
    "#plt.show()"
   ]
  },
  {
   "cell_type": "markdown",
   "id": "60c81a34",
   "metadata": {},
   "source": [
    "# Outlier Treatment"
   ]
  },
  {
   "cell_type": "code",
   "execution_count": null,
   "id": "f3a92c38",
   "metadata": {},
   "outputs": [],
   "source": [
    "fig=plt.figure(figsize=(20,11))\n",
    "sns.boxplot(data=final_df7)"
   ]
  },
  {
   "cell_type": "code",
   "execution_count": null,
   "id": "b9eaf07f",
   "metadata": {},
   "outputs": [],
   "source": [
    "final_df7.Annual_Premium.describe()"
   ]
  },
  {
   "cell_type": "code",
   "execution_count": null,
   "id": "75586033",
   "metadata": {},
   "outputs": [],
   "source": [
    "sns.boxplot(data=final_df7,y=\"Annual_Premium\")"
   ]
  },
  {
   "cell_type": "code",
   "execution_count": null,
   "id": "13fd18d8",
   "metadata": {},
   "outputs": [],
   "source": [
    "sns.distplot(final_df7.Annual_Premium,color=\"Red\") "
   ]
  },
  {
   "cell_type": "code",
   "execution_count": null,
   "id": "acc6a6c5",
   "metadata": {},
   "outputs": [],
   "source": [
    "final_df7.Annual_Premium.hist(color=\"Orange\")"
   ]
  },
  {
   "cell_type": "code",
   "execution_count": null,
   "id": "89fa2a05",
   "metadata": {},
   "outputs": [],
   "source": [
    "IQR1=final_df7.Annual_Premium.quantile(0.75)-final_df7.Annual_Premium.quantile(0.25)\n",
    "IQR1"
   ]
  },
  {
   "cell_type": "code",
   "execution_count": null,
   "id": "603de29c",
   "metadata": {},
   "outputs": [],
   "source": [
    "ub1=final_df7.Annual_Premium.quantile(0.75)+3*IQR1\n",
    "lb1=final_df7.Annual_Premium.quantile(0.25)-3*IQR1\n",
    "print(ub1,lb1)\n",
    "ub1"
   ]
  },
  {
   "cell_type": "code",
   "execution_count": null,
   "id": "6c0adccb",
   "metadata": {},
   "outputs": [],
   "source": [
    "final_df7.loc[final_df7[\"Annual_Premium\"]>124126 ,\"Annual_Premium\"]=124126   #upper:datapoint above 84385 are imputed into 84385"
   ]
  },
  {
   "cell_type": "code",
   "execution_count": null,
   "id": "cb4810ce",
   "metadata": {},
   "outputs": [],
   "source": [
    "sns.distplot(final_df7.Annual_Premium,color=\"green\") "
   ]
  },
  {
   "cell_type": "code",
   "execution_count": null,
   "id": "8e34fbda",
   "metadata": {},
   "outputs": [],
   "source": [
    "final_df7.Annual_Premium.hist(color=\"Green\")"
   ]
  },
  {
   "cell_type": "markdown",
   "id": "66fefaa8",
   "metadata": {},
   "source": [
    "# Skewness treatment"
   ]
  },
  {
   "cell_type": "code",
   "execution_count": null,
   "id": "e9384275",
   "metadata": {
    "scrolled": true
   },
   "outputs": [],
   "source": [
    "final_df7.skew()"
   ]
  },
  {
   "cell_type": "code",
   "execution_count": null,
   "id": "85ddfc5d",
   "metadata": {},
   "outputs": [],
   "source": [
    "final_df7[\"Annual_Premium\"]=np.sqrt(final_df7[\"Annual_Premium\"])"
   ]
  },
  {
   "cell_type": "code",
   "execution_count": null,
   "id": "4877ee44",
   "metadata": {},
   "outputs": [],
   "source": [
    "final_df7.skew()"
   ]
  },
  {
   "cell_type": "code",
   "execution_count": null,
   "id": "958c9112",
   "metadata": {},
   "outputs": [],
   "source": [
    "#sns.distplot(final_df7.Annual_Premium,color=\"green\") "
   ]
  },
  {
   "cell_type": "markdown",
   "id": "a749a800",
   "metadata": {},
   "source": [
    "# LR"
   ]
  },
  {
   "cell_type": "code",
   "execution_count": null,
   "id": "3c4cfd67",
   "metadata": {},
   "outputs": [],
   "source": [
    "x3=final_df7.iloc[:,0:-1]\n",
    "y3=final_df7.iloc[:,-1]"
   ]
  },
  {
   "cell_type": "code",
   "execution_count": null,
   "id": "0e048fcf",
   "metadata": {},
   "outputs": [],
   "source": [
    "x_train1,x_test1,y_train1,y_test1=train_test_split(x3,y3,test_size=0.2,random_state=100)\n",
    "x_train1.shape,x_test1.shape,y_train1.shape,y_test1.shape"
   ]
  },
  {
   "cell_type": "code",
   "execution_count": null,
   "id": "eab0355d",
   "metadata": {},
   "outputs": [],
   "source": [
    "from sklearn.metrics import confusion_matrix,precision_score,recall_score,accuracy_score,f1_score\n",
    "from sklearn.linear_model import LogisticRegression\n",
    "lg1=LogisticRegression()\n"
   ]
  },
  {
   "cell_type": "code",
   "execution_count": null,
   "id": "8174ce75",
   "metadata": {},
   "outputs": [],
   "source": [
    "lg1.fit(x_train1,y_train1)\n",
    "lg_p2=lg1.predict(x_test1)\n",
    "cf_2=confusion_matrix(y_test1,lg_p2)\n",
    "cf_2"
   ]
  },
  {
   "cell_type": "code",
   "execution_count": null,
   "id": "a291ecfd",
   "metadata": {},
   "outputs": [],
   "source": [
    "lg_ac2=cf_2.diagonal().sum()/cf_2.sum()*100\n",
    "lg_ac2"
   ]
  },
  {
   "cell_type": "code",
   "execution_count": null,
   "id": "642ef19c",
   "metadata": {},
   "outputs": [],
   "source": [
    "re_21=recall_score(y_test1,lg_p2)\n",
    "pr_21=precision_score(y_test1,lg_p2)\n",
    "f21=f1_score(y_test1,lg_p2,average=\"weighted\")\n",
    "print(classification_report(y_test1,lg_p2)) "
   ]
  },
  {
   "cell_type": "markdown",
   "id": "d820f232",
   "metadata": {},
   "source": [
    "# DT"
   ]
  },
  {
   "cell_type": "code",
   "execution_count": null,
   "id": "63658a72",
   "metadata": {},
   "outputs": [],
   "source": [
    "from sklearn.tree import DecisionTreeClassifier\n",
    "dt1=DecisionTreeClassifier()\n",
    "dt1.fit(x_train1,y_train1)\n",
    "dt_p2=dt1.predict(x_test1)\n",
    "#dt_p2\n",
    "dt_c2=confusion_matrix(y_test1,dt_p2)\n",
    "dt_c2"
   ]
  },
  {
   "cell_type": "code",
   "execution_count": null,
   "id": "76db367e",
   "metadata": {},
   "outputs": [],
   "source": [
    "dt_ac2=dt_c2.diagonal().sum()/dt_c2.sum()*100\n",
    "dt_ac2"
   ]
  },
  {
   "cell_type": "code",
   "execution_count": null,
   "id": "61a120e8",
   "metadata": {},
   "outputs": [],
   "source": [
    "re_22=recall_score(y_test1,dt_p2)\n",
    "pr_22=precision_score(y_test1,dt_p2)\n",
    "f22=f1_score(y_test1,dt_p2,average=\"weighted\")\n",
    "print(classification_report(y_test1,dt_p2))"
   ]
  },
  {
   "cell_type": "markdown",
   "id": "46fafff4",
   "metadata": {},
   "source": [
    "# RF"
   ]
  },
  {
   "cell_type": "code",
   "execution_count": null,
   "id": "88c5d861",
   "metadata": {},
   "outputs": [],
   "source": [
    "from sklearn.ensemble import RandomForestClassifier\n",
    "rf2=RandomForestClassifier()\n",
    "rf2.fit(x_train1,y_train1)\n",
    "rf_p2=rf2.predict(x_test1)\n",
    "rf_c2=confusion_matrix(y_test1,rf_p2)\n",
    "rf_c2"
   ]
  },
  {
   "cell_type": "code",
   "execution_count": null,
   "id": "6e077360",
   "metadata": {},
   "outputs": [],
   "source": [
    "rf_ac2=rf_c2.diagonal().sum()/rf_c2.sum()*100\n",
    "rf_ac2"
   ]
  },
  {
   "cell_type": "code",
   "execution_count": null,
   "id": "c596867c",
   "metadata": {},
   "outputs": [],
   "source": [
    "re_23=recall_score(y_test1,rf_p2)\n",
    "pr_23=precision_score(y_test1,rf_p2)\n",
    "f23=f1_score(rf_p2,y_test1,average=\"weighted\")\n",
    "print(classification_report(y_test1,rf_p2))"
   ]
  },
  {
   "cell_type": "markdown",
   "id": "36ae074b",
   "metadata": {},
   "source": [
    "# KNN"
   ]
  },
  {
   "cell_type": "code",
   "execution_count": null,
   "id": "736edb46",
   "metadata": {},
   "outputs": [],
   "source": [
    "from sklearn.neighbors import KNeighborsClassifier\n",
    "knn1=KNeighborsClassifier()\n",
    "knn1.fit(x_train1,y_train1)\n",
    "knn_p2=knn1.predict(x_test1)\n",
    "knn_c2=confusion_matrix(y_test1,knn_p2)\n",
    "knn_c2"
   ]
  },
  {
   "cell_type": "code",
   "execution_count": null,
   "id": "0ae19157",
   "metadata": {},
   "outputs": [],
   "source": [
    "knn_ac2=knn_c2.diagonal().sum()/knn_c2.sum()*100\n",
    "knn_ac2"
   ]
  },
  {
   "cell_type": "code",
   "execution_count": null,
   "id": "42c22776",
   "metadata": {},
   "outputs": [],
   "source": [
    "re_24=recall_score(y_test1,knn_p2)\n",
    "pr_24=precision_score(y_test1,knn_p2)\n",
    "f24=f1_score(knn_p2,y_test1,average=\"weighted\")\n",
    "print(classification_report(y_test1,knn_p2))"
   ]
  },
  {
   "cell_type": "markdown",
   "id": "ebdb325b",
   "metadata": {},
   "source": [
    "# XGBoost"
   ]
  },
  {
   "cell_type": "code",
   "execution_count": null,
   "id": "3818dae8",
   "metadata": {},
   "outputs": [],
   "source": [
    "import xgboost\n",
    "from xgboost import XGBClassifier\n",
    "xgb1=XGBClassifier()\n",
    "xgb1.fit(x_train1,y_train1)\n",
    "xgb_p2=xgb1.predict(x_test1)\n",
    "#xgb_p2\n",
    "xgb_c2=confusion_matrix(xgb_p2,y_test1)\n",
    "xgb_c2"
   ]
  },
  {
   "cell_type": "code",
   "execution_count": null,
   "id": "dda9ab5a",
   "metadata": {},
   "outputs": [],
   "source": [
    "xgb_ac2=xgb_c2.diagonal().sum()/xgb_c2.sum()*100\n",
    "xgb_ac2"
   ]
  },
  {
   "cell_type": "code",
   "execution_count": null,
   "id": "a4e69a4c",
   "metadata": {},
   "outputs": [],
   "source": [
    "re_25=recall_score(y_test1,xgb_p2)\n",
    "pr_25=precision_score(y_test1,xgb_p2)\n",
    "f25=f1_score(xgb_p2,y_test1,average=\"weighted\")\n",
    "print(classification_report(xgb_p2,y_test1))"
   ]
  },
  {
   "cell_type": "markdown",
   "id": "4d3b4f10",
   "metadata": {},
   "source": [
    "# NB"
   ]
  },
  {
   "cell_type": "code",
   "execution_count": null,
   "id": "0f303dbf",
   "metadata": {},
   "outputs": [],
   "source": [
    "from sklearn.naive_bayes import MultinomialNB\n",
    "nb1=MultinomialNB()\n",
    "nb1.fit(x_train1,y_train1)\n",
    "nb_p2=nb1.predict(x_test1)\n",
    "cf_n2=confusion_matrix(y_test1,nb_p2)\n",
    "cf_n2"
   ]
  },
  {
   "cell_type": "code",
   "execution_count": null,
   "id": "ea97fc3c",
   "metadata": {},
   "outputs": [],
   "source": [
    "nb_ac2=cf_n2.diagonal().sum()/cf_n2.sum()*100\n",
    "nb_ac2"
   ]
  },
  {
   "cell_type": "code",
   "execution_count": null,
   "id": "e8f55c30",
   "metadata": {},
   "outputs": [],
   "source": [
    "re_27=recall_score(y_test1,nb_p2)\n",
    "pr_27=precision_score(y_test1,nb_p2)\n",
    "f27=f1_score(y_test1,nb_p2,average=\"weighted\")\n",
    "print(classification_report(y_test1,nb_p2))"
   ]
  },
  {
   "cell_type": "code",
   "execution_count": null,
   "id": "7be9d8eb",
   "metadata": {},
   "outputs": [],
   "source": [
    "Model2=[\"Logistic Regression\",\"Decision Tree\",\"Random Forest\",\"KNN\",\"XGB(XGBoost)\",\"Naive Bayes\"]\n",
    "Accuracy2=[lg_ac2,dt_ac2,rf_ac2,knn_ac2,xgb_ac2,nb_ac2]\n",
    "f1_score2=[f21,f22,f23,f24,f25,f27]\n",
    "recall2=[re_21,re_22,re_23,re_24,re_25,re_27]\n",
    "precision2=[pr_21,pr_22,pr_23,pr_24,pr_25,pr_27]"
   ]
  },
  {
   "cell_type": "code",
   "execution_count": null,
   "id": "d6351b7a",
   "metadata": {
    "scrolled": true
   },
   "outputs": [],
   "source": [
    "Model1=pd.DataFrame({\"Model\":Model2,\"Accuracy\":Accuracy2,\"f1-Score\":f1_score2,\"recall\":recall2,\"precision\":precision2})  \n",
    "Model1"
   ]
  },
  {
   "cell_type": "markdown",
   "id": "3f078674",
   "metadata": {},
   "source": [
    "# Conclusion after applying the sampling technique:-"
   ]
  },
  {
   "cell_type": "code",
   "execution_count": null,
   "id": "1a300e78",
   "metadata": {},
   "outputs": [],
   "source": [
    "#Undersampling:-\n",
    "#Imblearn:-(XGB)Is having High accuracy with high TN\n",
    "#NearMiss:-(XGB)having high accuracy with low TN  /*XGB is having good accuracy go with it*/\n",
    "\n",
    "#Oversampling:-\n",
    "#Imblearn:-(DT&RF)having high accuracy with high TN\n",
    "#Smote:-(DT)Is having high accuracy with high TN\n"
   ]
  },
  {
   "cell_type": "markdown",
   "id": "8ca1215b",
   "metadata": {},
   "source": [
    "# Feature Selection"
   ]
  },
  {
   "cell_type": "code",
   "execution_count": null,
   "id": "74f1b20c",
   "metadata": {},
   "outputs": [],
   "source": [
    "#rf1.feature_importances_"
   ]
  },
  {
   "cell_type": "code",
   "execution_count": null,
   "id": "576e2ac7",
   "metadata": {},
   "outputs": [],
   "source": [
    "#rf2=pd.DataFrame(rf1.feature_importances_)\n",
    "#rf2"
   ]
  },
  {
   "cell_type": "code",
   "execution_count": null,
   "id": "9c159e67",
   "metadata": {},
   "outputs": [],
   "source": [
    "#d1.head()"
   ]
  },
  {
   "cell_type": "code",
   "execution_count": null,
   "id": "0eec22ff",
   "metadata": {},
   "outputs": [],
   "source": [
    "from sklearn.feature_selection import RFE\n",
    "from sklearn.tree import DecisionTreeClassifier\n",
    "dtree=DecisionTreeClassifier()"
   ]
  },
  {
   "cell_type": "code",
   "execution_count": null,
   "id": "bad26afa",
   "metadata": {},
   "outputs": [],
   "source": [
    "rfe=RFE(dtree,n_features_to_select=8)\n",
    "rfe.fit(final_df7.iloc[:,0:-1],final_df7.iloc[:,-1])"
   ]
  },
  {
   "cell_type": "code",
   "execution_count": null,
   "id": "f49e98db",
   "metadata": {
    "scrolled": true
   },
   "outputs": [],
   "source": [
    "rfe.support_"
   ]
  },
  {
   "cell_type": "code",
   "execution_count": null,
   "id": "c2fbd4ce",
   "metadata": {},
   "outputs": [],
   "source": [
    "f1=pd.DataFrame({\"feature\":list(rfe.support_),\"col\":list(final_df7.iloc[:,0:-1].columns)})"
   ]
  },
  {
   "cell_type": "code",
   "execution_count": null,
   "id": "c2cb9e3e",
   "metadata": {
    "scrolled": true
   },
   "outputs": [],
   "source": [
    "f1"
   ]
  },
  {
   "cell_type": "code",
   "execution_count": null,
   "id": "41a25da0",
   "metadata": {},
   "outputs": [],
   "source": [
    "data4=final_df7.drop([\"Driving_License\",\"Vehicle_Age\"],axis=1)\n",
    "data4"
   ]
  },
  {
   "cell_type": "markdown",
   "id": "f3c723a9",
   "metadata": {},
   "source": [
    "# LR"
   ]
  },
  {
   "cell_type": "code",
   "execution_count": null,
   "id": "668ed881",
   "metadata": {},
   "outputs": [],
   "source": [
    "x2=data4.iloc[: ,0:-1]\n",
    "y2=data4.iloc[:,-1]"
   ]
  },
  {
   "cell_type": "code",
   "execution_count": null,
   "id": "d527afa8",
   "metadata": {},
   "outputs": [],
   "source": [
    "x_train5,x_test5,y_train5,y_test5=train_test_split(x2,y2,test_size=0.2,random_state=101)\n",
    "x_train5.shape,x_test5.shape,y_train5.shape,y_test5.shape"
   ]
  },
  {
   "cell_type": "code",
   "execution_count": null,
   "id": "03099d3a",
   "metadata": {},
   "outputs": [],
   "source": [
    "from sklearn.linear_model import LogisticRegression\n",
    "lg2=LogisticRegression()\n",
    "lg2.fit(x_train5,y_train5)\n",
    "lg_p3=lg2.predict(x_test5)\n",
    "cf_3=confusion_matrix(y_test5,lg_p3)\n",
    "cf_3"
   ]
  },
  {
   "cell_type": "code",
   "execution_count": null,
   "id": "728e4508",
   "metadata": {},
   "outputs": [],
   "source": [
    "lg_ac3=cf_3.diagonal().sum()/cf_3.sum()*100\n",
    "lg_ac3"
   ]
  },
  {
   "cell_type": "code",
   "execution_count": null,
   "id": "003a376f",
   "metadata": {},
   "outputs": [],
   "source": [
    "re_31=recall_score(y_test5,lg_p3)\n",
    "pr_31=precision_score(y_test5,lg_p3)\n",
    "f31=f1_score(y_test5,lg_p3,average=\"weighted\")\n",
    "print(classification_report(y_test5,lg_p3)) "
   ]
  },
  {
   "cell_type": "markdown",
   "id": "919c1d59",
   "metadata": {},
   "source": [
    "# DT"
   ]
  },
  {
   "cell_type": "code",
   "execution_count": null,
   "id": "d0c1c569",
   "metadata": {},
   "outputs": [],
   "source": [
    "from sklearn.tree import DecisionTreeClassifier\n",
    "dt3=DecisionTreeClassifier()\n",
    "dt3.fit(x_train5,y_train5)\n",
    "dt_p3=dt3.predict(x_test5)\n",
    "#dt_p3\n",
    "dt_c3=confusion_matrix(y_test5,dt_p3)\n",
    "dt_c3"
   ]
  },
  {
   "cell_type": "code",
   "execution_count": null,
   "id": "b10b6827",
   "metadata": {},
   "outputs": [],
   "source": [
    "dt_ac3=dt_c3.diagonal().sum()/dt_c3.sum()*100\n",
    "dt_ac3"
   ]
  },
  {
   "cell_type": "code",
   "execution_count": null,
   "id": "f74bf440",
   "metadata": {},
   "outputs": [],
   "source": [
    "re_32=recall_score(y_test5,dt_p3)\n",
    "pr_32=precision_score(y_test5,dt_p3)\n",
    "f32=f1_score(y_test5,dt_p3,average=\"weighted\")\n",
    "print(classification_report(y_test5,dt_p3))"
   ]
  },
  {
   "cell_type": "markdown",
   "id": "269fd4f0",
   "metadata": {},
   "source": [
    "# RF"
   ]
  },
  {
   "cell_type": "code",
   "execution_count": null,
   "id": "f87f82d6",
   "metadata": {},
   "outputs": [],
   "source": [
    "from sklearn.ensemble import RandomForestClassifier\n",
    "rf3=RandomForestClassifier()\n",
    "rf3.fit(x_train5,y_train5)\n",
    "rf_p3=rf3.predict(x_test5)\n",
    "rf_c3=confusion_matrix(y_test5,rf_p3)\n",
    "rf_c3"
   ]
  },
  {
   "cell_type": "code",
   "execution_count": null,
   "id": "0a40b575",
   "metadata": {},
   "outputs": [],
   "source": [
    "rf_ac3=rf_c3.diagonal().sum()/rf_c3.sum()*100\n",
    "rf_ac3"
   ]
  },
  {
   "cell_type": "code",
   "execution_count": null,
   "id": "f3d75f00",
   "metadata": {},
   "outputs": [],
   "source": [
    "re_33=recall_score(y_test5,rf_p3)\n",
    "pr_33=precision_score(y_test5,rf_p3)\n",
    "f33=f1_score(y_test5,rf_p3,average=\"weighted\")\n",
    "print(classification_report(y_test5,rf_p3))"
   ]
  },
  {
   "cell_type": "markdown",
   "id": "bb126fd2",
   "metadata": {},
   "source": [
    "# KNN"
   ]
  },
  {
   "cell_type": "code",
   "execution_count": null,
   "id": "a7112a9c",
   "metadata": {},
   "outputs": [],
   "source": [
    "from sklearn.neighbors import KNeighborsClassifier\n",
    "knn3=KNeighborsClassifier()\n",
    "knn3.fit(x_train5,y_train5)\n",
    "knn_p3=knn3.predict(x_test5)\n",
    "knn_c3=confusion_matrix(y_test5,knn_p3)\n",
    "knn_c3"
   ]
  },
  {
   "cell_type": "code",
   "execution_count": null,
   "id": "c68a215b",
   "metadata": {},
   "outputs": [],
   "source": [
    "knn_ac3=knn_c3.diagonal().sum()/knn_c3.sum()*100\n",
    "knn_ac3"
   ]
  },
  {
   "cell_type": "code",
   "execution_count": null,
   "id": "857f7ae8",
   "metadata": {},
   "outputs": [],
   "source": [
    "re_34=recall_score(y_test5,knn_p3)\n",
    "pr_34=precision_score(y_test5,knn_p3)\n",
    "f34=f1_score(y_test5,knn_p3,average=\"weighted\")\n",
    "print(classification_report(y_test5,knn_p3))"
   ]
  },
  {
   "cell_type": "markdown",
   "id": "b1189e53",
   "metadata": {},
   "source": [
    "# XGBoost"
   ]
  },
  {
   "cell_type": "code",
   "execution_count": null,
   "id": "33638603",
   "metadata": {},
   "outputs": [],
   "source": [
    "import xgboost\n",
    "from xgboost import XGBClassifier\n",
    "xgb2=XGBClassifier()\n",
    "xgb2.fit(x_train5,y_train5)\n",
    "xgb_p3=xgb2.predict(x_test5)\n",
    "#xgb_p3\n",
    "xgb_c3=confusion_matrix(y_test5,xgb_p3)\n",
    "xgb_c3"
   ]
  },
  {
   "cell_type": "code",
   "execution_count": null,
   "id": "5e48cd5a",
   "metadata": {},
   "outputs": [],
   "source": [
    "xgb_ac3=xgb_c3.diagonal().sum()/xgb_c3.sum()*100\n",
    "xgb_ac3"
   ]
  },
  {
   "cell_type": "code",
   "execution_count": null,
   "id": "5b28a06e",
   "metadata": {},
   "outputs": [],
   "source": [
    "re_35=recall_score(y_test5,xgb_p3)\n",
    "pr_35=precision_score(y_test5,xgb_p3)\n",
    "f35=f1_score(y_test5,xgb_p3,average=\"weighted\")\n",
    "print(classification_report(y_test5,xgb_p3))"
   ]
  },
  {
   "cell_type": "markdown",
   "id": "f101eebd",
   "metadata": {},
   "source": [
    "# NB"
   ]
  },
  {
   "cell_type": "code",
   "execution_count": null,
   "id": "69764c43",
   "metadata": {},
   "outputs": [],
   "source": [
    "from sklearn.naive_bayes import MultinomialNB\n",
    "nb3=MultinomialNB()\n",
    "nb3.fit(x_train5,y_train5)\n",
    "nb_p3=nb3.predict(x_test5)\n",
    "cf_n3=confusion_matrix(y_test5,nb_p3)\n",
    "cf_n3"
   ]
  },
  {
   "cell_type": "code",
   "execution_count": null,
   "id": "1012843e",
   "metadata": {},
   "outputs": [],
   "source": [
    "nb_ac3=cf_n3.diagonal().sum()/cf_n3.sum()*100\n",
    "nb_ac3"
   ]
  },
  {
   "cell_type": "code",
   "execution_count": null,
   "id": "bcab8d8b",
   "metadata": {},
   "outputs": [],
   "source": [
    "re_37=recall_score(y_test5,nb_p3)\n",
    "pr_37=precision_score(y_test5,nb_p3)\n",
    "f37=f1_score(y_test5,nb_p3,average=\"weighted\")\n",
    "print(classification_report(y_test5,nb_p3))"
   ]
  },
  {
   "cell_type": "code",
   "execution_count": null,
   "id": "a3ca93e1",
   "metadata": {},
   "outputs": [],
   "source": [
    "Model3=[\"Logistic Regression\",\"Decision Tree\",\"Random Forest\",\"KNN\",\"XGB(XGBoost)\",\"Naive Bayes\"]\n",
    "Accuracy3=[lg_ac3,dt_ac3,rf_ac3,knn_ac3,xgb_ac3,nb_ac3]\n",
    "f1_score3=[f31,f32,f33,f34,f35,f37]\n",
    "recall3=[re_31,re_32,re_33,re_34,re_35,re_37]\n",
    "precision3=[pr_31,pr_32,pr_33,pr_34,pr_35,pr_37]"
   ]
  },
  {
   "cell_type": "code",
   "execution_count": null,
   "id": "8a6a1db1",
   "metadata": {},
   "outputs": [],
   "source": [
    "Model2=pd.DataFrame({\"Model\":Model3,\"Accuracy\":Accuracy3,\"f1-Score\":f1_score3,\"recall\":recall3,\"precision\":precision3})  \n",
    "Model2\n"
   ]
  },
  {
   "cell_type": "code",
   "execution_count": null,
   "id": "0a329352",
   "metadata": {
    "scrolled": true
   },
   "outputs": [],
   "source": [
    "cm=confusion_matrix(y_test5,xgb_p3)\n",
    "sns.heatmap(cm,annot=True,fmt='d',cmap=\"viridis\")\n",
    "plt.title(\"Confusion_Matrix\")\n",
    "plt.show()"
   ]
  },
  {
   "cell_type": "code",
   "execution_count": null,
   "id": "7100faba",
   "metadata": {},
   "outputs": [],
   "source": [
    "#AUC-ROC CURVE\n",
    "from sklearn.metrics import roc_auc_score\n",
    "from sklearn.metrics import roc_curve"
   ]
  },
  {
   "cell_type": "code",
   "execution_count": null,
   "id": "e0b475af",
   "metadata": {},
   "outputs": [],
   "source": [
    "roc=roc_auc_score(y_test5,xgb_p3)\n",
    "roc"
   ]
  },
  {
   "cell_type": "code",
   "execution_count": null,
   "id": "d0e660e2",
   "metadata": {},
   "outputs": [],
   "source": [
    "fpr,tpr,threshold=roc_curve(y_test5,xgb_p3)\n",
    "plt.plot(fpr,tpr)\n",
    "plt.title(\"AUC_ROC_CURVE\")\n",
    "plt.show()"
   ]
  },
  {
   "cell_type": "markdown",
   "id": "a50c6547",
   "metadata": {},
   "source": [
    "# Conclusion"
   ]
  },
  {
   "cell_type": "markdown",
   "id": "9433c9d8",
   "metadata": {},
   "source": [
    "1.)By comparing the 2nd & 3rd Dataframe after applying FS came to the conclusion that there is a slight difference & it is not affecting the data much.\n",
    "2.)And also after comparing ROC curve we can see that XGBoost Classifier performs better.Because\n",
    "curves closer to the top-left corner,it indicates a better performance.\n",
    "3.)So we can conclude that XGBoost Classifier is the best fitted one for our problem.\n"
   ]
  }
 ],
 "metadata": {
  "kernelspec": {
   "display_name": "Python 3 (ipykernel)",
   "language": "python",
   "name": "python3"
  },
  "language_info": {
   "codemirror_mode": {
    "name": "ipython",
    "version": 3
   },
   "file_extension": ".py",
   "mimetype": "text/x-python",
   "name": "python",
   "nbconvert_exporter": "python",
   "pygments_lexer": "ipython3",
   "version": "3.10.9"
  }
 },
 "nbformat": 4,
 "nbformat_minor": 5
}
